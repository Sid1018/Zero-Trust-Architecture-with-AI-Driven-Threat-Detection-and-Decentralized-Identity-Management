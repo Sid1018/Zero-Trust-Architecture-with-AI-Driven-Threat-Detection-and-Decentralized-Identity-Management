{
  "nbformat": 4,
  "nbformat_minor": 0,
  "metadata": {
    "colab": {
      "provenance": []
    },
    "kernelspec": {
      "name": "python3",
      "display_name": "Python 3"
    },
    "language_info": {
      "name": "python"
    }
  },
  "cells": [
    {
      "cell_type": "code",
      "execution_count": null,
      "metadata": {
        "id": "-KxHGXa4IQht"
      },
      "outputs": [],
      "source": [
        "# Install necessary libraries\n",
        "!pip install flask-ngrok flask transformers cryptography\n",
        "\n",
        "import os\n",
        "import json\n",
        "import random\n",
        "import time\n",
        "import torch\n",
        "from flask import Flask, request, jsonify\n",
        "from flask_ngrok import run_with_ngrok\n",
        "from transformers import AutoModelForSequenceClassification, AutoTokenizer\n",
        "from cryptography.hazmat.primitives.asymmetric import rsa\n",
        "from cryptography.hazmat.primitives import serialization\n",
        "from cryptography.hazmat.primitives.asymmetric import padding\n",
        "from cryptography.hazmat.primitives import hashes\n",
        "from cryptography.hazmat.backends import default_backend\n",
        "\n",
        "# Initialize Flask app\n",
        "app = Flask(__name__)\n",
        "run_with_ngrok(app)\n"
      ]
    },
    {
      "cell_type": "markdown",
      "source": [
        "Implementing Zero Trust Architecture\n",
        "Continuous Verification and Minimal Access"
      ],
      "metadata": {
        "id": "g5q0WQdKIb3L"
      }
    },
    {
      "cell_type": "code",
      "source": [
        "# Dummy user database with minimal access roles\n",
        "users_db = {\n",
        "    'user1': {'role': 'viewer', 'permissions': ['read']},\n",
        "    'user2': {'role': 'editor', 'permissions': ['read', 'write']}\n",
        "}\n",
        "\n",
        "def verify_user_access(user_id, action):\n",
        "    user = users_db.get(user_id)\n",
        "    if user and action in user['permissions']:\n",
        "        return True\n",
        "    return False\n",
        "\n",
        "@app.route('/access', methods=['POST'])\n",
        "def access_control():\n",
        "    data = request.get_json()\n",
        "    user_id = data['user_id']\n",
        "    action = data['action']\n",
        "\n",
        "    if verify_user_access(user_id, action):\n",
        "        return jsonify({'status': 'access granted'}), 200\n",
        "    else:\n",
        "        return jsonify({'status': 'access denied'}), 403\n"
      ],
      "metadata": {
        "id": "S9lEqeZKIdy-"
      },
      "execution_count": null,
      "outputs": []
    },
    {
      "cell_type": "markdown",
      "source": [
        "AI-Driven Threat Detection\n",
        "Real-Time Threat Detection"
      ],
      "metadata": {
        "id": "pgjwE9siIgn3"
      }
    },
    {
      "cell_type": "code",
      "source": [
        "# Load pre-trained model for threat detection\n",
        "model_name = \"bert-base-uncased\"\n",
        "tokenizer = AutoTokenizer.from_pretrained(model_name)\n",
        "model = AutoModelForSequenceClassification.from_pretrained(model_name, num_labels=2)\n",
        "\n",
        "def detect_threat(activity):\n",
        "    inputs = tokenizer(activity, return_tensors='pt')\n",
        "    outputs = model(**inputs)\n",
        "    probabilities = torch.nn.functional.softmax(outputs.logits, dim=-1)\n",
        "    return probabilities[0][1].item() > 0.5  # Return True if threat detected\n",
        "\n",
        "@app.route('/monitor', methods=['POST'])\n",
        "def monitor_activity():\n",
        "    data = request.get_json()\n",
        "    activity = data['activity']\n",
        "\n",
        "    if detect_threat(activity):\n",
        "        return jsonify({'status': 'threat detected'}), 200\n",
        "    else:\n",
        "        return jsonify({'status': 'no threat detected'}), 200\n"
      ],
      "metadata": {
        "id": "RMzuTkZ9IoTf"
      },
      "execution_count": null,
      "outputs": []
    },
    {
      "cell_type": "markdown",
      "source": [
        "Decentralized Identity Management\n",
        "Identity Generation and Verification"
      ],
      "metadata": {
        "id": "NZs4GVHlIrSu"
      }
    },
    {
      "cell_type": "code",
      "source": [
        "# Generate RSA keys for identity management\n",
        "private_key = rsa.generate_private_key(public_exponent=65537, key_size=2048, backend=default_backend())\n",
        "public_key = private_key.public_key()\n",
        "\n",
        "def get_public_key():\n",
        "    return public_key.public_bytes(encoding=serialization.Encoding.PEM, format=serialization.PublicFormat.SubjectPublicKeyInfo)\n",
        "\n",
        "def sign_data(data):\n",
        "    return private_key.sign(data.encode(), padding.PSS(mgf=padding.MGF1(hashes.SHA256()), salt_length=padding.PSS.MAX_LENGTH), hashes.SHA256())\n",
        "\n",
        "def verify_signature(public_key, data, signature):\n",
        "    try:\n",
        "        public_key.verify(signature, data.encode(), padding.PSS(mgf=padding.MGF1(hashes.SHA256()), salt_length=padding.PSS.MAX_LENGTH), hashes.SHA256())\n",
        "        return True\n",
        "    except Exception:\n",
        "        return False\n",
        "\n",
        "@app.route('/register', methods=['POST'])\n",
        "def register_user():\n",
        "    data = request.get_json()\n",
        "    user_id = data['user_id']\n",
        "\n",
        "    # Dummy registration process\n",
        "    if user_id not in users_db:\n",
        "        users_db[user_id] = {'role': 'viewer', 'permissions': ['read']}\n",
        "        return jsonify({'status': 'user registered', 'public_key': get_public_key().decode()}), 200\n",
        "    else:\n",
        "        return jsonify({'status': 'user already exists'}), 409\n",
        "\n",
        "@app.route('/authenticate', methods=['POST'])\n",
        "def authenticate_user():\n",
        "    data = request.get_json()\n",
        "    user_id = data['user_id']\n",
        "    signature = bytes.fromhex(data['signature'])\n",
        "    message = data['message']\n",
        "\n",
        "    if user_id in users_db:\n",
        "        public_key_pem = get_public_key()\n",
        "        public_key = serialization.load_pem_public_key(public_key_pem, backend=default_backend())\n",
        "\n",
        "        if verify_signature(public_key, message, signature):\n",
        "            return jsonify({'status': 'authentication successful'}), 200\n",
        "        else:\n",
        "            return jsonify({'status': 'authentication failed'}), 403\n",
        "    else:\n",
        "        return jsonify({'status': 'user not found'}), 404\n"
      ],
      "metadata": {
        "id": "WQZDKx69Iwe6"
      },
      "execution_count": null,
      "outputs": []
    }
  ]
}